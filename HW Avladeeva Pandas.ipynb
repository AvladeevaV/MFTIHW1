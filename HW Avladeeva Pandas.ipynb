{
 "cells": [
  {
   "cell_type": "code",
   "execution_count": 196,
   "id": "ee86148e",
   "metadata": {},
   "outputs": [
    {
     "data": {
      "text/plain": [
       "'C:\\\\Users\\\\Пользователь\\\\Desktop\\\\Skill Factory\\\\data'"
      ]
     },
     "execution_count": 196,
     "metadata": {},
     "output_type": "execute_result"
    }
   ],
   "source": [
    "import os\n",
    "os.chdir('/Users/Пользователь/Desktop/Skill Factory/data')\n",
    "os.getcwd()"
   ]
  },
  {
   "cell_type": "code",
   "execution_count": 197,
   "id": "34c59c2b",
   "metadata": {},
   "outputs": [],
   "source": [
    "import pandas as pd\n",
    "import numpy as np\n",
    "import seaborn as sns\n",
    "import matplotlib.pyplot as plt\n",
    "import plotly.express as px\n",
    "from matplotlib.ticker import FuncFormatter\n",
    "pd.set_option('display.max_rows', 500)"
   ]
  },
  {
   "cell_type": "markdown",
   "id": "162bb839",
   "metadata": {},
   "source": [
    " ### train.csv\n",
    "\n",
    "- **row_id: (int64)** ID строки\n",
    "- **timestamp: (int64)** время в милисекундах между началом взаимодействия и завершением задания юзером\n",
    "- **user_id: (int32)** ID пользователя\n",
    "- **content_id: (int16)** ID номер вопроса или лекции\n",
    "- **content_type_id: (int8)** 0 - вопрос(ы), 1 - лекция\n",
    "- **task_container_id: (int16)** ID блока вопросов или лекции (может включать в себя несколько content_id). монотонно увеличивается для каждого пользователя\n",
    "- **user_answer: (int8)** ответ пользователя на вопрос. -1 - пустое значение для лекций\n",
    "- **answered_correctly: (int8)** 1 -ответил верно, 0 -неверно, -1 -пустое значение для лекций\n",
    "- **prior_question_elapsed_time: (float32)** среднее время в милисекундах, затраченное пользователем на каждый ответ в предыдущем блоке вопросов (лекции в промежутке игнорируются). Если блок является первым тестируемым, значение значение 0.\n",
    "- **prior_question_had_explanation: (bool)** видел ли пользователь правильный ответ и объяснение на предыдущий блок вопросов (лекции в промежутке игнорируются). Для первого - значение 0. Обычно первые вопросы, которые видит юзер - вступительный тест, на который нет фидбека."
   ]
  },
  {
   "cell_type": "markdown",
   "id": "6225ddca",
   "metadata": {},
   "source": [
    "### lectures.csv\n",
    "- **lecture_id** ключ, для тех случаев когда train/test content_id соответствует значению лекция, т.е. 1.\n",
    "- **part** указывает к какой категории относится лекция.\n",
    "- **tag** каждой лекции присвоен тег, по данным кодам данные могут быть класторизованы\n",
    "- **type_of** короткое описание основной цели лекции"
   ]
  },
  {
   "cell_type": "markdown",
   "id": "11299e15",
   "metadata": {},
   "source": [
    "### questions.csv\n",
    "\n",
    " - **question_id** ключ, для тех случае, когда значение колонки train/test content_id соответствует типу вопрос, т.е. равно 0\n",
    " - **bundle_id** признак для объединения вопросов в единые блоки, в task_container_id.\n",
    " - **correct_answer** - правильный ответ на вопрос, может быть сопоставлен в колонкой train user_answer column, для проверки правильности ответа пользователя\n",
    " - **part** соответствующая часть TOEIC теста. В тесте 7 частей с 1-4 - аудирование, 5-7 - чтение с выполнением заданий. Всего в тесте 200 вопросов (1 часть - 6; 2 часть - 25; 3 часть - 39; 4 часть - 30; 5 часть - 30; 6 часть - 16; 7 часть - 54.\n",
    " - **tags** значения тегов не приведены, но по коду тега, вопросы могут быть кластеризованы."
   ]
  },
  {
   "cell_type": "code",
   "execution_count": 198,
   "id": "7455e1d9",
   "metadata": {},
   "outputs": [
    {
     "data": {
      "text/html": [
       "<div>\n",
       "<style scoped>\n",
       "    .dataframe tbody tr th:only-of-type {\n",
       "        vertical-align: middle;\n",
       "    }\n",
       "\n",
       "    .dataframe tbody tr th {\n",
       "        vertical-align: top;\n",
       "    }\n",
       "\n",
       "    .dataframe thead th {\n",
       "        text-align: right;\n",
       "    }\n",
       "</style>\n",
       "<table border=\"1\" class=\"dataframe\">\n",
       "  <thead>\n",
       "    <tr style=\"text-align: right;\">\n",
       "      <th></th>\n",
       "      <th>row_id</th>\n",
       "      <th>timestamp</th>\n",
       "      <th>user_id</th>\n",
       "      <th>content_id</th>\n",
       "      <th>content_type_id</th>\n",
       "      <th>task_container_id</th>\n",
       "      <th>user_answer</th>\n",
       "      <th>answered_correctly</th>\n",
       "      <th>prior_question_elapsed_time</th>\n",
       "      <th>prior_question_had_explanation</th>\n",
       "    </tr>\n",
       "  </thead>\n",
       "  <tbody>\n",
       "    <tr>\n",
       "      <th>0</th>\n",
       "      <td>0</td>\n",
       "      <td>0</td>\n",
       "      <td>115</td>\n",
       "      <td>5692</td>\n",
       "      <td>0</td>\n",
       "      <td>1</td>\n",
       "      <td>3</td>\n",
       "      <td>1</td>\n",
       "      <td>NaN</td>\n",
       "      <td>NaN</td>\n",
       "    </tr>\n",
       "    <tr>\n",
       "      <th>1</th>\n",
       "      <td>1</td>\n",
       "      <td>56943</td>\n",
       "      <td>115</td>\n",
       "      <td>5716</td>\n",
       "      <td>0</td>\n",
       "      <td>2</td>\n",
       "      <td>2</td>\n",
       "      <td>1</td>\n",
       "      <td>37000.0</td>\n",
       "      <td>False</td>\n",
       "    </tr>\n",
       "    <tr>\n",
       "      <th>2</th>\n",
       "      <td>2</td>\n",
       "      <td>118363</td>\n",
       "      <td>115</td>\n",
       "      <td>128</td>\n",
       "      <td>0</td>\n",
       "      <td>0</td>\n",
       "      <td>0</td>\n",
       "      <td>1</td>\n",
       "      <td>55000.0</td>\n",
       "      <td>False</td>\n",
       "    </tr>\n",
       "    <tr>\n",
       "      <th>3</th>\n",
       "      <td>3</td>\n",
       "      <td>131167</td>\n",
       "      <td>115</td>\n",
       "      <td>7860</td>\n",
       "      <td>0</td>\n",
       "      <td>3</td>\n",
       "      <td>0</td>\n",
       "      <td>1</td>\n",
       "      <td>19000.0</td>\n",
       "      <td>False</td>\n",
       "    </tr>\n",
       "    <tr>\n",
       "      <th>4</th>\n",
       "      <td>4</td>\n",
       "      <td>137965</td>\n",
       "      <td>115</td>\n",
       "      <td>7922</td>\n",
       "      <td>0</td>\n",
       "      <td>4</td>\n",
       "      <td>1</td>\n",
       "      <td>1</td>\n",
       "      <td>11000.0</td>\n",
       "      <td>False</td>\n",
       "    </tr>\n",
       "    <tr>\n",
       "      <th>5</th>\n",
       "      <td>5</td>\n",
       "      <td>157063</td>\n",
       "      <td>115</td>\n",
       "      <td>156</td>\n",
       "      <td>0</td>\n",
       "      <td>5</td>\n",
       "      <td>2</td>\n",
       "      <td>1</td>\n",
       "      <td>5000.0</td>\n",
       "      <td>False</td>\n",
       "    </tr>\n",
       "    <tr>\n",
       "      <th>6</th>\n",
       "      <td>6</td>\n",
       "      <td>176092</td>\n",
       "      <td>115</td>\n",
       "      <td>51</td>\n",
       "      <td>0</td>\n",
       "      <td>6</td>\n",
       "      <td>0</td>\n",
       "      <td>1</td>\n",
       "      <td>17000.0</td>\n",
       "      <td>False</td>\n",
       "    </tr>\n",
       "    <tr>\n",
       "      <th>7</th>\n",
       "      <td>7</td>\n",
       "      <td>194190</td>\n",
       "      <td>115</td>\n",
       "      <td>50</td>\n",
       "      <td>0</td>\n",
       "      <td>7</td>\n",
       "      <td>3</td>\n",
       "      <td>1</td>\n",
       "      <td>17000.0</td>\n",
       "      <td>False</td>\n",
       "    </tr>\n",
       "    <tr>\n",
       "      <th>8</th>\n",
       "      <td>8</td>\n",
       "      <td>212463</td>\n",
       "      <td>115</td>\n",
       "      <td>7896</td>\n",
       "      <td>0</td>\n",
       "      <td>8</td>\n",
       "      <td>2</td>\n",
       "      <td>1</td>\n",
       "      <td>16000.0</td>\n",
       "      <td>False</td>\n",
       "    </tr>\n",
       "    <tr>\n",
       "      <th>9</th>\n",
       "      <td>9</td>\n",
       "      <td>230983</td>\n",
       "      <td>115</td>\n",
       "      <td>7863</td>\n",
       "      <td>0</td>\n",
       "      <td>9</td>\n",
       "      <td>0</td>\n",
       "      <td>1</td>\n",
       "      <td>16000.0</td>\n",
       "      <td>False</td>\n",
       "    </tr>\n",
       "  </tbody>\n",
       "</table>\n",
       "</div>"
      ],
      "text/plain": [
       "   row_id  timestamp  user_id  content_id  content_type_id  task_container_id  \\\n",
       "0       0          0      115        5692                0                  1   \n",
       "1       1      56943      115        5716                0                  2   \n",
       "2       2     118363      115         128                0                  0   \n",
       "3       3     131167      115        7860                0                  3   \n",
       "4       4     137965      115        7922                0                  4   \n",
       "5       5     157063      115         156                0                  5   \n",
       "6       6     176092      115          51                0                  6   \n",
       "7       7     194190      115          50                0                  7   \n",
       "8       8     212463      115        7896                0                  8   \n",
       "9       9     230983      115        7863                0                  9   \n",
       "\n",
       "   user_answer  answered_correctly  prior_question_elapsed_time  \\\n",
       "0            3                   1                          NaN   \n",
       "1            2                   1                      37000.0   \n",
       "2            0                   1                      55000.0   \n",
       "3            0                   1                      19000.0   \n",
       "4            1                   1                      11000.0   \n",
       "5            2                   1                       5000.0   \n",
       "6            0                   1                      17000.0   \n",
       "7            3                   1                      17000.0   \n",
       "8            2                   1                      16000.0   \n",
       "9            0                   1                      16000.0   \n",
       "\n",
       "  prior_question_had_explanation  \n",
       "0                            NaN  \n",
       "1                          False  \n",
       "2                          False  \n",
       "3                          False  \n",
       "4                          False  \n",
       "5                          False  \n",
       "6                          False  \n",
       "7                          False  \n",
       "8                          False  \n",
       "9                          False  "
      ]
     },
     "execution_count": 198,
     "metadata": {},
     "output_type": "execute_result"
    }
   ],
   "source": [
    "train = pd.read_csv(\"train2.csv\")\n",
    "train.head(10)"
   ]
  },
  {
   "cell_type": "code",
   "execution_count": 199,
   "id": "d9cc3913",
   "metadata": {},
   "outputs": [
    {
     "data": {
      "text/plain": [
       "(65535, 10)"
      ]
     },
     "execution_count": 199,
     "metadata": {},
     "output_type": "execute_result"
    }
   ],
   "source": [
    "train.shape"
   ]
  },
  {
   "cell_type": "code",
   "execution_count": 200,
   "id": "5c6f1f9f",
   "metadata": {},
   "outputs": [
    {
     "name": "stdout",
     "output_type": "stream",
     "text": [
      "<class 'pandas.core.frame.DataFrame'>\n",
      "RangeIndex: 65535 entries, 0 to 65534\n",
      "Data columns (total 10 columns):\n",
      " #   Column                          Non-Null Count  Dtype  \n",
      "---  ------                          --------------  -----  \n",
      " 0   row_id                          65535 non-null  int64  \n",
      " 1   timestamp                       65535 non-null  int64  \n",
      " 2   user_id                         65535 non-null  int64  \n",
      " 3   content_id                      65535 non-null  int64  \n",
      " 4   content_type_id                 65535 non-null  int64  \n",
      " 5   task_container_id               65535 non-null  int64  \n",
      " 6   user_answer                     65535 non-null  int64  \n",
      " 7   answered_correctly              65535 non-null  int64  \n",
      " 8   prior_question_elapsed_time     64108 non-null  float64\n",
      " 9   prior_question_had_explanation  65295 non-null  object \n",
      "dtypes: float64(1), int64(8), object(1)\n",
      "memory usage: 5.0+ MB\n"
     ]
    }
   ],
   "source": [
    "train.info()"
   ]
  },
  {
   "cell_type": "markdown",
   "id": "1cb1f8f8",
   "metadata": {},
   "source": [
    "оптимизируем данные, согласно приведенному условию"
   ]
  },
  {
   "cell_type": "code",
   "execution_count": 201,
   "id": "28633866",
   "metadata": {},
   "outputs": [],
   "source": [
    "train['user_id'] = train['user_id'].astype('int32')\n",
    "train['content_id'] = train['content_id'].astype('int16')\n",
    "train['content_type_id'] = train['content_type_id'].astype('int8')\n",
    "train['task_container_id'] = train['task_container_id'].astype('int16')\n",
    "train['user_answer'] = train['user_answer'].astype('int8')\n",
    "train['answered_correctly'] = train['answered_correctly'].astype('int8')\n",
    "train['prior_question_elapsed_time'] = train['prior_question_elapsed_time'].astype('float32')\n",
    "train['prior_question_had_explanation'] = train['prior_question_had_explanation'].astype('bool')"
   ]
  },
  {
   "cell_type": "code",
   "execution_count": 202,
   "id": "8c13bc5f",
   "metadata": {},
   "outputs": [
    {
     "name": "stdout",
     "output_type": "stream",
     "text": [
      "<class 'pandas.core.frame.DataFrame'>\n",
      "RangeIndex: 65535 entries, 0 to 65534\n",
      "Data columns (total 10 columns):\n",
      " #   Column                          Non-Null Count  Dtype  \n",
      "---  ------                          --------------  -----  \n",
      " 0   row_id                          65535 non-null  int64  \n",
      " 1   timestamp                       65535 non-null  int64  \n",
      " 2   user_id                         65535 non-null  int32  \n",
      " 3   content_id                      65535 non-null  int16  \n",
      " 4   content_type_id                 65535 non-null  int8   \n",
      " 5   task_container_id               65535 non-null  int16  \n",
      " 6   user_answer                     65535 non-null  int8   \n",
      " 7   answered_correctly              65535 non-null  int8   \n",
      " 8   prior_question_elapsed_time     64108 non-null  float32\n",
      " 9   prior_question_had_explanation  65535 non-null  bool   \n",
      "dtypes: bool(1), float32(1), int16(2), int32(1), int64(2), int8(3)\n",
      "memory usage: 2.0 MB\n"
     ]
    }
   ],
   "source": [
    "train.info()"
   ]
  },
  {
   "cell_type": "code",
   "execution_count": 203,
   "id": "9a5fab76",
   "metadata": {},
   "outputs": [
    {
     "data": {
      "text/html": [
       "<div>\n",
       "<style scoped>\n",
       "    .dataframe tbody tr th:only-of-type {\n",
       "        vertical-align: middle;\n",
       "    }\n",
       "\n",
       "    .dataframe tbody tr th {\n",
       "        vertical-align: top;\n",
       "    }\n",
       "\n",
       "    .dataframe thead th {\n",
       "        text-align: right;\n",
       "    }\n",
       "</style>\n",
       "<table border=\"1\" class=\"dataframe\">\n",
       "  <thead>\n",
       "    <tr style=\"text-align: right;\">\n",
       "      <th></th>\n",
       "      <th>lecture_id</th>\n",
       "      <th>tag</th>\n",
       "      <th>part</th>\n",
       "      <th>type_of</th>\n",
       "    </tr>\n",
       "  </thead>\n",
       "  <tbody>\n",
       "    <tr>\n",
       "      <th>0</th>\n",
       "      <td>89</td>\n",
       "      <td>159</td>\n",
       "      <td>5</td>\n",
       "      <td>concept</td>\n",
       "    </tr>\n",
       "    <tr>\n",
       "      <th>1</th>\n",
       "      <td>100</td>\n",
       "      <td>70</td>\n",
       "      <td>1</td>\n",
       "      <td>concept</td>\n",
       "    </tr>\n",
       "    <tr>\n",
       "      <th>2</th>\n",
       "      <td>185</td>\n",
       "      <td>45</td>\n",
       "      <td>6</td>\n",
       "      <td>concept</td>\n",
       "    </tr>\n",
       "    <tr>\n",
       "      <th>3</th>\n",
       "      <td>192</td>\n",
       "      <td>79</td>\n",
       "      <td>5</td>\n",
       "      <td>solving question</td>\n",
       "    </tr>\n",
       "    <tr>\n",
       "      <th>4</th>\n",
       "      <td>317</td>\n",
       "      <td>156</td>\n",
       "      <td>5</td>\n",
       "      <td>solving question</td>\n",
       "    </tr>\n",
       "  </tbody>\n",
       "</table>\n",
       "</div>"
      ],
      "text/plain": [
       "   lecture_id  tag  part           type_of\n",
       "0          89  159     5           concept\n",
       "1         100   70     1           concept\n",
       "2         185   45     6           concept\n",
       "3         192   79     5  solving question\n",
       "4         317  156     5  solving question"
      ]
     },
     "execution_count": 203,
     "metadata": {},
     "output_type": "execute_result"
    }
   ],
   "source": [
    "lectures = pd.read_csv(\"lectures.csv\")\n",
    "lectures.head(5)"
   ]
  },
  {
   "cell_type": "code",
   "execution_count": 204,
   "id": "7d49fdb6",
   "metadata": {},
   "outputs": [
    {
     "name": "stdout",
     "output_type": "stream",
     "text": [
      "<class 'pandas.core.frame.DataFrame'>\n",
      "RangeIndex: 418 entries, 0 to 417\n",
      "Data columns (total 4 columns):\n",
      " #   Column      Non-Null Count  Dtype \n",
      "---  ------      --------------  ----- \n",
      " 0   lecture_id  418 non-null    int64 \n",
      " 1   tag         418 non-null    int64 \n",
      " 2   part        418 non-null    int64 \n",
      " 3   type_of     418 non-null    object\n",
      "dtypes: int64(3), object(1)\n",
      "memory usage: 13.2+ KB\n"
     ]
    }
   ],
   "source": [
    "lectures.info()"
   ]
  },
  {
   "cell_type": "code",
   "execution_count": 205,
   "id": "8231e51a",
   "metadata": {},
   "outputs": [
    {
     "data": {
      "text/html": [
       "<div>\n",
       "<style scoped>\n",
       "    .dataframe tbody tr th:only-of-type {\n",
       "        vertical-align: middle;\n",
       "    }\n",
       "\n",
       "    .dataframe tbody tr th {\n",
       "        vertical-align: top;\n",
       "    }\n",
       "\n",
       "    .dataframe thead th {\n",
       "        text-align: right;\n",
       "    }\n",
       "</style>\n",
       "<table border=\"1\" class=\"dataframe\">\n",
       "  <thead>\n",
       "    <tr style=\"text-align: right;\">\n",
       "      <th></th>\n",
       "      <th>question_id</th>\n",
       "      <th>bundle_id</th>\n",
       "      <th>correct_answer</th>\n",
       "      <th>part</th>\n",
       "      <th>tags</th>\n",
       "    </tr>\n",
       "  </thead>\n",
       "  <tbody>\n",
       "    <tr>\n",
       "      <th>0</th>\n",
       "      <td>0</td>\n",
       "      <td>0</td>\n",
       "      <td>0</td>\n",
       "      <td>1</td>\n",
       "      <td>51 131 162 38</td>\n",
       "    </tr>\n",
       "    <tr>\n",
       "      <th>1</th>\n",
       "      <td>1</td>\n",
       "      <td>1</td>\n",
       "      <td>1</td>\n",
       "      <td>1</td>\n",
       "      <td>131 36 81</td>\n",
       "    </tr>\n",
       "    <tr>\n",
       "      <th>2</th>\n",
       "      <td>2</td>\n",
       "      <td>2</td>\n",
       "      <td>0</td>\n",
       "      <td>1</td>\n",
       "      <td>131 101 162 92</td>\n",
       "    </tr>\n",
       "    <tr>\n",
       "      <th>3</th>\n",
       "      <td>3</td>\n",
       "      <td>3</td>\n",
       "      <td>0</td>\n",
       "      <td>1</td>\n",
       "      <td>131 149 162 29</td>\n",
       "    </tr>\n",
       "    <tr>\n",
       "      <th>4</th>\n",
       "      <td>4</td>\n",
       "      <td>4</td>\n",
       "      <td>3</td>\n",
       "      <td>1</td>\n",
       "      <td>131 5 162 38</td>\n",
       "    </tr>\n",
       "  </tbody>\n",
       "</table>\n",
       "</div>"
      ],
      "text/plain": [
       "   question_id  bundle_id  correct_answer  part            tags\n",
       "0            0          0               0     1   51 131 162 38\n",
       "1            1          1               1     1       131 36 81\n",
       "2            2          2               0     1  131 101 162 92\n",
       "3            3          3               0     1  131 149 162 29\n",
       "4            4          4               3     1    131 5 162 38"
      ]
     },
     "execution_count": 205,
     "metadata": {},
     "output_type": "execute_result"
    }
   ],
   "source": [
    "questions = pd.read_csv(\"questions.csv\")\n",
    "questions.head(5)"
   ]
  },
  {
   "cell_type": "code",
   "execution_count": 206,
   "id": "9d6d02f2",
   "metadata": {},
   "outputs": [
    {
     "name": "stdout",
     "output_type": "stream",
     "text": [
      "<class 'pandas.core.frame.DataFrame'>\n",
      "RangeIndex: 13523 entries, 0 to 13522\n",
      "Data columns (total 5 columns):\n",
      " #   Column          Non-Null Count  Dtype \n",
      "---  ------          --------------  ----- \n",
      " 0   question_id     13523 non-null  int64 \n",
      " 1   bundle_id       13523 non-null  int64 \n",
      " 2   correct_answer  13523 non-null  int64 \n",
      " 3   part            13523 non-null  int64 \n",
      " 4   tags            13522 non-null  object\n",
      "dtypes: int64(4), object(1)\n",
      "memory usage: 528.4+ KB\n"
     ]
    }
   ],
   "source": [
    "questions.info()"
   ]
  },
  {
   "cell_type": "code",
   "execution_count": 207,
   "id": "58902957",
   "metadata": {},
   "outputs": [
    {
     "data": {
      "text/html": [
       "<div>\n",
       "<style scoped>\n",
       "    .dataframe tbody tr th:only-of-type {\n",
       "        vertical-align: middle;\n",
       "    }\n",
       "\n",
       "    .dataframe tbody tr th {\n",
       "        vertical-align: top;\n",
       "    }\n",
       "\n",
       "    .dataframe thead th {\n",
       "        text-align: right;\n",
       "    }\n",
       "</style>\n",
       "<table border=\"1\" class=\"dataframe\">\n",
       "  <thead>\n",
       "    <tr style=\"text-align: right;\">\n",
       "      <th></th>\n",
       "      <th>question_id</th>\n",
       "      <th>part</th>\n",
       "    </tr>\n",
       "  </thead>\n",
       "  <tbody>\n",
       "    <tr>\n",
       "      <th>0</th>\n",
       "      <td>0</td>\n",
       "      <td>1</td>\n",
       "    </tr>\n",
       "    <tr>\n",
       "      <th>1</th>\n",
       "      <td>1</td>\n",
       "      <td>1</td>\n",
       "    </tr>\n",
       "    <tr>\n",
       "      <th>2</th>\n",
       "      <td>2</td>\n",
       "      <td>1</td>\n",
       "    </tr>\n",
       "    <tr>\n",
       "      <th>3</th>\n",
       "      <td>3</td>\n",
       "      <td>1</td>\n",
       "    </tr>\n",
       "    <tr>\n",
       "      <th>4</th>\n",
       "      <td>4</td>\n",
       "      <td>1</td>\n",
       "    </tr>\n",
       "  </tbody>\n",
       "</table>\n",
       "</div>"
      ],
      "text/plain": [
       "   question_id  part\n",
       "0            0     1\n",
       "1            1     1\n",
       "2            2     1\n",
       "3            3     1\n",
       "4            4     1"
      ]
     },
     "execution_count": 207,
     "metadata": {},
     "output_type": "execute_result"
    }
   ],
   "source": [
    "qwe=questions[['question_id','part']]\n",
    "qwe.head(5)"
   ]
  },
  {
   "cell_type": "markdown",
   "id": "2fbae8c6",
   "metadata": {},
   "source": [
    "оптимизируем данные lectures и questions согласно заданным условиям"
   ]
  },
  {
   "cell_type": "code",
   "execution_count": 208,
   "id": "831aa272",
   "metadata": {},
   "outputs": [],
   "source": [
    "lectures['lecture_id']= lectures['lecture_id'].astype('int16')\n",
    "lectures['tag']= lectures['tag'].astype('int8')\n",
    "lectures['part']= lectures['part'].astype('int8')\n",
    "questions['question_id'] = questions['question_id'].astype('int16')\n",
    "questions['bundle_id'] = questions['bundle_id'].astype('int8')\n",
    "questions['correct_answer'] = questions['correct_answer'].astype('int8')\n",
    "questions['part'] = questions['part'].astype('int8')"
   ]
  },
  {
   "cell_type": "code",
   "execution_count": 209,
   "id": "5a308355",
   "metadata": {
    "scrolled": true
   },
   "outputs": [
    {
     "data": {
      "text/html": [
       "<div>\n",
       "<style scoped>\n",
       "    .dataframe tbody tr th:only-of-type {\n",
       "        vertical-align: middle;\n",
       "    }\n",
       "\n",
       "    .dataframe tbody tr th {\n",
       "        vertical-align: top;\n",
       "    }\n",
       "\n",
       "    .dataframe thead th {\n",
       "        text-align: right;\n",
       "    }\n",
       "</style>\n",
       "<table border=\"1\" class=\"dataframe\">\n",
       "  <thead>\n",
       "    <tr style=\"text-align: right;\">\n",
       "      <th></th>\n",
       "      <th>lecture_id</th>\n",
       "      <th>tag</th>\n",
       "      <th>part</th>\n",
       "    </tr>\n",
       "  </thead>\n",
       "  <tbody>\n",
       "    <tr>\n",
       "      <th>count</th>\n",
       "      <td>418.000000</td>\n",
       "      <td>418.000000</td>\n",
       "      <td>418.000000</td>\n",
       "    </tr>\n",
       "    <tr>\n",
       "      <th>mean</th>\n",
       "      <td>16983.401914</td>\n",
       "      <td>11.801435</td>\n",
       "      <td>4.267943</td>\n",
       "    </tr>\n",
       "    <tr>\n",
       "      <th>std</th>\n",
       "      <td>9426.164660</td>\n",
       "      <td>82.644199</td>\n",
       "      <td>1.872424</td>\n",
       "    </tr>\n",
       "    <tr>\n",
       "      <th>min</th>\n",
       "      <td>89.000000</td>\n",
       "      <td>-128.000000</td>\n",
       "      <td>1.000000</td>\n",
       "    </tr>\n",
       "    <tr>\n",
       "      <th>25%</th>\n",
       "      <td>9026.250000</td>\n",
       "      <td>-82.000000</td>\n",
       "      <td>2.000000</td>\n",
       "    </tr>\n",
       "    <tr>\n",
       "      <th>50%</th>\n",
       "      <td>17161.500000</td>\n",
       "      <td>36.000000</td>\n",
       "      <td>5.000000</td>\n",
       "    </tr>\n",
       "    <tr>\n",
       "      <th>75%</th>\n",
       "      <td>24906.250000</td>\n",
       "      <td>78.000000</td>\n",
       "      <td>6.000000</td>\n",
       "    </tr>\n",
       "    <tr>\n",
       "      <th>max</th>\n",
       "      <td>32736.000000</td>\n",
       "      <td>127.000000</td>\n",
       "      <td>7.000000</td>\n",
       "    </tr>\n",
       "  </tbody>\n",
       "</table>\n",
       "</div>"
      ],
      "text/plain": [
       "         lecture_id         tag        part\n",
       "count    418.000000  418.000000  418.000000\n",
       "mean   16983.401914   11.801435    4.267943\n",
       "std     9426.164660   82.644199    1.872424\n",
       "min       89.000000 -128.000000    1.000000\n",
       "25%     9026.250000  -82.000000    2.000000\n",
       "50%    17161.500000   36.000000    5.000000\n",
       "75%    24906.250000   78.000000    6.000000\n",
       "max    32736.000000  127.000000    7.000000"
      ]
     },
     "execution_count": 209,
     "metadata": {},
     "output_type": "execute_result"
    }
   ],
   "source": [
    "lectures.describe()"
   ]
  },
  {
   "cell_type": "markdown",
   "id": "f8118308",
   "metadata": {},
   "source": [
    "Объеденим данные двуx таблиц train и questions, чтобы получить информацию о соответствии вопросов пользователя соответствующим частям экзамена"
   ]
  },
  {
   "cell_type": "code",
   "execution_count": 210,
   "id": "f9bec73e",
   "metadata": {},
   "outputs": [
    {
     "data": {
      "text/html": [
       "<div>\n",
       "<style scoped>\n",
       "    .dataframe tbody tr th:only-of-type {\n",
       "        vertical-align: middle;\n",
       "    }\n",
       "\n",
       "    .dataframe tbody tr th {\n",
       "        vertical-align: top;\n",
       "    }\n",
       "\n",
       "    .dataframe thead th {\n",
       "        text-align: right;\n",
       "    }\n",
       "</style>\n",
       "<table border=\"1\" class=\"dataframe\">\n",
       "  <thead>\n",
       "    <tr style=\"text-align: right;\">\n",
       "      <th></th>\n",
       "      <th>row_id</th>\n",
       "      <th>timestamp</th>\n",
       "      <th>user_id</th>\n",
       "      <th>content_id</th>\n",
       "      <th>task_container_id</th>\n",
       "      <th>user_answer</th>\n",
       "      <th>answered_correctly</th>\n",
       "      <th>prior_question_elapsed_time</th>\n",
       "      <th>prior_question_had_explanation</th>\n",
       "      <th>question_id</th>\n",
       "      <th>bundle_id</th>\n",
       "      <th>correct_answer</th>\n",
       "      <th>part</th>\n",
       "      <th>tags</th>\n",
       "    </tr>\n",
       "  </thead>\n",
       "  <tbody>\n",
       "    <tr>\n",
       "      <th>1</th>\n",
       "      <td>1</td>\n",
       "      <td>56943</td>\n",
       "      <td>115</td>\n",
       "      <td>5716</td>\n",
       "      <td>2</td>\n",
       "      <td>2</td>\n",
       "      <td>1</td>\n",
       "      <td>37000.0</td>\n",
       "      <td>False</td>\n",
       "      <td>5716.0</td>\n",
       "      <td>84.0</td>\n",
       "      <td>2.0</td>\n",
       "      <td>5.0</td>\n",
       "      <td>168</td>\n",
       "    </tr>\n",
       "    <tr>\n",
       "      <th>2</th>\n",
       "      <td>2</td>\n",
       "      <td>118363</td>\n",
       "      <td>115</td>\n",
       "      <td>128</td>\n",
       "      <td>0</td>\n",
       "      <td>0</td>\n",
       "      <td>1</td>\n",
       "      <td>55000.0</td>\n",
       "      <td>False</td>\n",
       "      <td>128.0</td>\n",
       "      <td>-128.0</td>\n",
       "      <td>0.0</td>\n",
       "      <td>1.0</td>\n",
       "      <td>131 149 92</td>\n",
       "    </tr>\n",
       "    <tr>\n",
       "      <th>3</th>\n",
       "      <td>3</td>\n",
       "      <td>131167</td>\n",
       "      <td>115</td>\n",
       "      <td>7860</td>\n",
       "      <td>3</td>\n",
       "      <td>0</td>\n",
       "      <td>1</td>\n",
       "      <td>19000.0</td>\n",
       "      <td>False</td>\n",
       "      <td>7860.0</td>\n",
       "      <td>-76.0</td>\n",
       "      <td>0.0</td>\n",
       "      <td>1.0</td>\n",
       "      <td>131 104 81</td>\n",
       "    </tr>\n",
       "    <tr>\n",
       "      <th>4</th>\n",
       "      <td>4</td>\n",
       "      <td>137965</td>\n",
       "      <td>115</td>\n",
       "      <td>7922</td>\n",
       "      <td>4</td>\n",
       "      <td>1</td>\n",
       "      <td>1</td>\n",
       "      <td>11000.0</td>\n",
       "      <td>False</td>\n",
       "      <td>7922.0</td>\n",
       "      <td>-14.0</td>\n",
       "      <td>1.0</td>\n",
       "      <td>1.0</td>\n",
       "      <td>131 149 92</td>\n",
       "    </tr>\n",
       "    <tr>\n",
       "      <th>5</th>\n",
       "      <td>5</td>\n",
       "      <td>157063</td>\n",
       "      <td>115</td>\n",
       "      <td>156</td>\n",
       "      <td>5</td>\n",
       "      <td>2</td>\n",
       "      <td>1</td>\n",
       "      <td>5000.0</td>\n",
       "      <td>False</td>\n",
       "      <td>156.0</td>\n",
       "      <td>-100.0</td>\n",
       "      <td>2.0</td>\n",
       "      <td>1.0</td>\n",
       "      <td>131 101 162 38</td>\n",
       "    </tr>\n",
       "  </tbody>\n",
       "</table>\n",
       "</div>"
      ],
      "text/plain": [
       "   row_id  timestamp  user_id  content_id  task_container_id  user_answer  \\\n",
       "1       1      56943      115        5716                  2            2   \n",
       "2       2     118363      115         128                  0            0   \n",
       "3       3     131167      115        7860                  3            0   \n",
       "4       4     137965      115        7922                  4            1   \n",
       "5       5     157063      115         156                  5            2   \n",
       "\n",
       "   answered_correctly  prior_question_elapsed_time  \\\n",
       "1                   1                      37000.0   \n",
       "2                   1                      55000.0   \n",
       "3                   1                      19000.0   \n",
       "4                   1                      11000.0   \n",
       "5                   1                       5000.0   \n",
       "\n",
       "  prior_question_had_explanation  question_id  bundle_id  correct_answer  \\\n",
       "1                          False       5716.0       84.0             2.0   \n",
       "2                          False        128.0     -128.0             0.0   \n",
       "3                          False       7860.0      -76.0             0.0   \n",
       "4                          False       7922.0      -14.0             1.0   \n",
       "5                          False        156.0     -100.0             2.0   \n",
       "\n",
       "   part            tags  \n",
       "1   5.0             168  \n",
       "2   1.0      131 149 92  \n",
       "3   1.0      131 104 81  \n",
       "4   1.0      131 149 92  \n",
       "5   1.0  131 101 162 38  "
      ]
     },
     "execution_count": 210,
     "metadata": {},
     "output_type": "execute_result"
    }
   ],
   "source": [
    "train = pd.read_csv('train2.csv')\n",
    "\n",
    "train = train.merge(questions, left_on = 'content_id', right_on = 'question_id', how = 'left')\n",
    "\n",
    "train = train[train.content_type_id == False]\n",
    "train = train[train.answered_correctly!= -1 ]\n",
    "train.drop(['content_type_id'], axis=1, inplace=True)\n",
    "train.dropna(inplace=True)\n",
    "train.head(5)"
   ]
  },
  {
   "cell_type": "code",
   "execution_count": 211,
   "id": "d08b1db2",
   "metadata": {},
   "outputs": [
    {
     "name": "stdout",
     "output_type": "stream",
     "text": [
      "<class 'pandas.core.frame.DataFrame'>\n",
      "Int64Index: 64108 entries, 1 to 65534\n",
      "Data columns (total 14 columns):\n",
      " #   Column                          Non-Null Count  Dtype  \n",
      "---  ------                          --------------  -----  \n",
      " 0   row_id                          64108 non-null  int64  \n",
      " 1   timestamp                       64108 non-null  int64  \n",
      " 2   user_id                         64108 non-null  int64  \n",
      " 3   content_id                      64108 non-null  int64  \n",
      " 4   task_container_id               64108 non-null  int64  \n",
      " 5   user_answer                     64108 non-null  int64  \n",
      " 6   answered_correctly              64108 non-null  int64  \n",
      " 7   prior_question_elapsed_time     64108 non-null  float64\n",
      " 8   prior_question_had_explanation  64108 non-null  object \n",
      " 9   question_id                     64108 non-null  float64\n",
      " 10  bundle_id                       64108 non-null  float64\n",
      " 11  correct_answer                  64108 non-null  float64\n",
      " 12  part                            64108 non-null  float64\n",
      " 13  tags                            64108 non-null  object \n",
      "dtypes: float64(5), int64(7), object(2)\n",
      "memory usage: 7.3+ MB\n"
     ]
    }
   ],
   "source": [
    "train.info()"
   ]
  },
  {
   "cell_type": "code",
   "execution_count": 212,
   "id": "cf6afb9b",
   "metadata": {},
   "outputs": [],
   "source": [
    "train['user_id'] = train['user_id'].astype('int32')\n",
    "train['content_id'] = train['content_id'].astype('int16')\n",
    "train['task_container_id'] = train['task_container_id'].astype('int16')\n",
    "train['user_answer'] = train['user_answer'].astype('int8')\n",
    "train['answered_correctly'] = train['answered_correctly'].astype('int8')\n",
    "train['prior_question_elapsed_time'] = train['prior_question_elapsed_time'].astype('float32')\n",
    "train['prior_question_had_explanation'] = train['prior_question_had_explanation'].astype('bool')\n",
    "train['question_id'] = train['question_id'].astype('int16')\n",
    "train['part'] = train['part'].astype('int8')"
   ]
  },
  {
   "cell_type": "code",
   "execution_count": 213,
   "id": "aee37d7b",
   "metadata": {},
   "outputs": [
    {
     "data": {
      "text/plain": [
       "(64108, 14)"
      ]
     },
     "execution_count": 213,
     "metadata": {},
     "output_type": "execute_result"
    }
   ],
   "source": [
    "train.shape"
   ]
  },
  {
   "cell_type": "code",
   "execution_count": 214,
   "id": "1eacf233",
   "metadata": {},
   "outputs": [
    {
     "data": {
      "text/html": [
       "<div>\n",
       "<style scoped>\n",
       "    .dataframe tbody tr th:only-of-type {\n",
       "        vertical-align: middle;\n",
       "    }\n",
       "\n",
       "    .dataframe tbody tr th {\n",
       "        vertical-align: top;\n",
       "    }\n",
       "\n",
       "    .dataframe thead th {\n",
       "        text-align: right;\n",
       "    }\n",
       "</style>\n",
       "<table border=\"1\" class=\"dataframe\">\n",
       "  <thead>\n",
       "    <tr style=\"text-align: right;\">\n",
       "      <th></th>\n",
       "      <th>row_id</th>\n",
       "      <th>timestamp</th>\n",
       "      <th>user_id</th>\n",
       "      <th>content_id</th>\n",
       "      <th>task_container_id</th>\n",
       "      <th>user_answer</th>\n",
       "      <th>answered_correctly</th>\n",
       "      <th>prior_question_elapsed_time</th>\n",
       "      <th>question_id</th>\n",
       "      <th>bundle_id</th>\n",
       "      <th>correct_answer</th>\n",
       "      <th>part</th>\n",
       "    </tr>\n",
       "  </thead>\n",
       "  <tbody>\n",
       "    <tr>\n",
       "      <th>count</th>\n",
       "      <td>64108.000000</td>\n",
       "      <td>6.410800e+04</td>\n",
       "      <td>6.410800e+04</td>\n",
       "      <td>64108.000000</td>\n",
       "      <td>64108.000000</td>\n",
       "      <td>64108.000000</td>\n",
       "      <td>64108.000000</td>\n",
       "      <td>64108.000000</td>\n",
       "      <td>64108.000000</td>\n",
       "      <td>64108.000000</td>\n",
       "      <td>64108.000000</td>\n",
       "      <td>64108.000000</td>\n",
       "    </tr>\n",
       "    <tr>\n",
       "      <th>mean</th>\n",
       "      <td>32815.588008</td>\n",
       "      <td>6.901159e+09</td>\n",
       "      <td>7.258110e+05</td>\n",
       "      <td>4997.920447</td>\n",
       "      <td>963.553847</td>\n",
       "      <td>1.431459</td>\n",
       "      <td>0.694749</td>\n",
       "      <td>24734.687500</td>\n",
       "      <td>4997.920447</td>\n",
       "      <td>-0.249189</td>\n",
       "      <td>1.443221</td>\n",
       "      <td>4.045158</td>\n",
       "    </tr>\n",
       "    <tr>\n",
       "      <th>std</th>\n",
       "      <td>18934.649045</td>\n",
       "      <td>1.084701e+10</td>\n",
       "      <td>5.128382e+05</td>\n",
       "      <td>3347.975370</td>\n",
       "      <td>1202.344009</td>\n",
       "      <td>1.156899</td>\n",
       "      <td>0.460517</td>\n",
       "      <td>17157.742188</td>\n",
       "      <td>3347.975370</td>\n",
       "      <td>73.099172</td>\n",
       "      <td>1.154851</td>\n",
       "      <td>1.691514</td>\n",
       "    </tr>\n",
       "    <tr>\n",
       "      <th>min</th>\n",
       "      <td>1.000000</td>\n",
       "      <td>0.000000e+00</td>\n",
       "      <td>1.150000e+02</td>\n",
       "      <td>0.000000</td>\n",
       "      <td>0.000000</td>\n",
       "      <td>0.000000</td>\n",
       "      <td>0.000000</td>\n",
       "      <td>0.000000</td>\n",
       "      <td>0.000000</td>\n",
       "      <td>-128.000000</td>\n",
       "      <td>0.000000</td>\n",
       "      <td>1.000000</td>\n",
       "    </tr>\n",
       "    <tr>\n",
       "      <th>25%</th>\n",
       "      <td>16410.750000</td>\n",
       "      <td>5.732909e+08</td>\n",
       "      <td>1.414550e+05</td>\n",
       "      <td>1915.750000</td>\n",
       "      <td>116.000000</td>\n",
       "      <td>0.000000</td>\n",
       "      <td>0.000000</td>\n",
       "      <td>16000.000000</td>\n",
       "      <td>1915.750000</td>\n",
       "      <td>-63.000000</td>\n",
       "      <td>0.000000</td>\n",
       "      <td>2.000000</td>\n",
       "    </tr>\n",
       "    <tr>\n",
       "      <th>50%</th>\n",
       "      <td>32798.500000</td>\n",
       "      <td>3.569071e+09</td>\n",
       "      <td>8.008240e+05</td>\n",
       "      <td>4975.000000</td>\n",
       "      <td>427.500000</td>\n",
       "      <td>1.000000</td>\n",
       "      <td>1.000000</td>\n",
       "      <td>21000.000000</td>\n",
       "      <td>4975.000000</td>\n",
       "      <td>2.000000</td>\n",
       "      <td>1.000000</td>\n",
       "      <td>5.000000</td>\n",
       "    </tr>\n",
       "    <tr>\n",
       "      <th>75%</th>\n",
       "      <td>49231.250000</td>\n",
       "      <td>9.228112e+09</td>\n",
       "      <td>1.282581e+06</td>\n",
       "      <td>7219.000000</td>\n",
       "      <td>1355.250000</td>\n",
       "      <td>3.000000</td>\n",
       "      <td>1.000000</td>\n",
       "      <td>28666.000000</td>\n",
       "      <td>7219.000000</td>\n",
       "      <td>61.000000</td>\n",
       "      <td>3.000000</td>\n",
       "      <td>5.000000</td>\n",
       "    </tr>\n",
       "    <tr>\n",
       "      <th>max</th>\n",
       "      <td>65534.000000</td>\n",
       "      <td>5.949531e+10</td>\n",
       "      <td>1.440282e+06</td>\n",
       "      <td>13522.000000</td>\n",
       "      <td>5261.000000</td>\n",
       "      <td>3.000000</td>\n",
       "      <td>1.000000</td>\n",
       "      <td>300000.000000</td>\n",
       "      <td>13522.000000</td>\n",
       "      <td>127.000000</td>\n",
       "      <td>3.000000</td>\n",
       "      <td>7.000000</td>\n",
       "    </tr>\n",
       "  </tbody>\n",
       "</table>\n",
       "</div>"
      ],
      "text/plain": [
       "             row_id     timestamp       user_id    content_id  \\\n",
       "count  64108.000000  6.410800e+04  6.410800e+04  64108.000000   \n",
       "mean   32815.588008  6.901159e+09  7.258110e+05   4997.920447   \n",
       "std    18934.649045  1.084701e+10  5.128382e+05   3347.975370   \n",
       "min        1.000000  0.000000e+00  1.150000e+02      0.000000   \n",
       "25%    16410.750000  5.732909e+08  1.414550e+05   1915.750000   \n",
       "50%    32798.500000  3.569071e+09  8.008240e+05   4975.000000   \n",
       "75%    49231.250000  9.228112e+09  1.282581e+06   7219.000000   \n",
       "max    65534.000000  5.949531e+10  1.440282e+06  13522.000000   \n",
       "\n",
       "       task_container_id   user_answer  answered_correctly  \\\n",
       "count       64108.000000  64108.000000        64108.000000   \n",
       "mean          963.553847      1.431459            0.694749   \n",
       "std          1202.344009      1.156899            0.460517   \n",
       "min             0.000000      0.000000            0.000000   \n",
       "25%           116.000000      0.000000            0.000000   \n",
       "50%           427.500000      1.000000            1.000000   \n",
       "75%          1355.250000      3.000000            1.000000   \n",
       "max          5261.000000      3.000000            1.000000   \n",
       "\n",
       "       prior_question_elapsed_time   question_id     bundle_id  \\\n",
       "count                 64108.000000  64108.000000  64108.000000   \n",
       "mean                  24734.687500   4997.920447     -0.249189   \n",
       "std                   17157.742188   3347.975370     73.099172   \n",
       "min                       0.000000      0.000000   -128.000000   \n",
       "25%                   16000.000000   1915.750000    -63.000000   \n",
       "50%                   21000.000000   4975.000000      2.000000   \n",
       "75%                   28666.000000   7219.000000     61.000000   \n",
       "max                  300000.000000  13522.000000    127.000000   \n",
       "\n",
       "       correct_answer          part  \n",
       "count    64108.000000  64108.000000  \n",
       "mean         1.443221      4.045158  \n",
       "std          1.154851      1.691514  \n",
       "min          0.000000      1.000000  \n",
       "25%          0.000000      2.000000  \n",
       "50%          1.000000      5.000000  \n",
       "75%          3.000000      5.000000  \n",
       "max          3.000000      7.000000  "
      ]
     },
     "execution_count": 214,
     "metadata": {},
     "output_type": "execute_result"
    }
   ],
   "source": [
    "train.describe()"
   ]
  },
  {
   "cell_type": "code",
   "execution_count": 215,
   "id": "dde639ef",
   "metadata": {},
   "outputs": [
    {
     "data": {
      "text/plain": [
       "5    0.376365\n",
       "2    0.197963\n",
       "6    0.121732\n",
       "3    0.096337\n",
       "4    0.084077\n",
       "1    0.075498\n",
       "7    0.048028\n",
       "Name: part, dtype: float64"
      ]
     },
     "execution_count": 215,
     "metadata": {},
     "output_type": "execute_result"
    }
   ],
   "source": [
    "definition = train['part'].value_counts(normalize=True)\n",
    "definition.head(7)"
   ]
  },
  {
   "cell_type": "markdown",
   "id": "1f5a7015",
   "metadata": {},
   "source": [
    "Создадим датафрейм на основании данных о названии частей экзамена и баллов за их прохождение. Данные с сайта www.iibc-global.org"
   ]
  },
  {
   "cell_type": "code",
   "execution_count": 216,
   "id": "830253f7",
   "metadata": {},
   "outputs": [
    {
     "data": {
      "text/html": [
       "<div>\n",
       "<style scoped>\n",
       "    .dataframe tbody tr th:only-of-type {\n",
       "        vertical-align: middle;\n",
       "    }\n",
       "\n",
       "    .dataframe tbody tr th {\n",
       "        vertical-align: top;\n",
       "    }\n",
       "\n",
       "    .dataframe thead th {\n",
       "        text-align: right;\n",
       "    }\n",
       "</style>\n",
       "<table border=\"1\" class=\"dataframe\">\n",
       "  <thead>\n",
       "    <tr style=\"text-align: right;\">\n",
       "      <th></th>\n",
       "      <th>number_part</th>\n",
       "      <th>type_of_part</th>\n",
       "      <th>score_for_the_part</th>\n",
       "    </tr>\n",
       "  </thead>\n",
       "  <tbody>\n",
       "    <tr>\n",
       "      <th>1</th>\n",
       "      <td>1</td>\n",
       "      <td>listening_Photographs</td>\n",
       "      <td>6</td>\n",
       "    </tr>\n",
       "    <tr>\n",
       "      <th>2</th>\n",
       "      <td>2</td>\n",
       "      <td>Listening_Question-Response</td>\n",
       "      <td>25</td>\n",
       "    </tr>\n",
       "    <tr>\n",
       "      <th>3</th>\n",
       "      <td>3</td>\n",
       "      <td>Listening_Conversations</td>\n",
       "      <td>39</td>\n",
       "    </tr>\n",
       "    <tr>\n",
       "      <th>4</th>\n",
       "      <td>4</td>\n",
       "      <td>Listening_Talks</td>\n",
       "      <td>30</td>\n",
       "    </tr>\n",
       "    <tr>\n",
       "      <th>5</th>\n",
       "      <td>5</td>\n",
       "      <td>Reading_Incomplete Sentences</td>\n",
       "      <td>30</td>\n",
       "    </tr>\n",
       "    <tr>\n",
       "      <th>6</th>\n",
       "      <td>6</td>\n",
       "      <td>Reading_Text Completion</td>\n",
       "      <td>16</td>\n",
       "    </tr>\n",
       "    <tr>\n",
       "      <th>7</th>\n",
       "      <td>7</td>\n",
       "      <td>Reading_Passages</td>\n",
       "      <td>54</td>\n",
       "    </tr>\n",
       "  </tbody>\n",
       "</table>\n",
       "</div>"
      ],
      "text/plain": [
       "   number_part                  type_of_part  score_for_the_part\n",
       "1            1         listening_Photographs                   6\n",
       "2            2   Listening_Question-Response                  25\n",
       "3            3       Listening_Conversations                  39\n",
       "4            4               Listening_Talks                  30\n",
       "5            5  Reading_Incomplete Sentences                  30\n",
       "6            6       Reading_Text Completion                  16\n",
       "7            7              Reading_Passages                  54"
      ]
     },
     "execution_count": 216,
     "metadata": {},
     "output_type": "execute_result"
    }
   ],
   "source": [
    "df = pd.DataFrame([[1,'listening_Photographs',6],[2,'Listening_Question-Response',25],[3,'Listening_Conversations',39],[4,'Listening_Talks',30],[5,'Reading_Incomplete Sentences',30],[6, 'Reading_Text Completion',16],[7,'Reading_Passages',54]], index = [1,2,3,4,5,6,7], columns = ['number_part','type_of_part', 'score_for_the_part'])\n",
    "df"
   ]
  },
  {
   "cell_type": "markdown",
   "id": "b25bbccc",
   "metadata": {},
   "source": [
    "#### Проанализируем структуру датасета train\n",
    "Объединим датафрейм с данными о темах и частотой появления в датасете. Отсортируем по частоте появления в датасете"
   ]
  },
  {
   "cell_type": "code",
   "execution_count": 217,
   "id": "5932ad45",
   "metadata": {},
   "outputs": [
    {
     "data": {
      "text/html": [
       "<div>\n",
       "<style scoped>\n",
       "    .dataframe tbody tr th:only-of-type {\n",
       "        vertical-align: middle;\n",
       "    }\n",
       "\n",
       "    .dataframe tbody tr th {\n",
       "        vertical-align: top;\n",
       "    }\n",
       "\n",
       "    .dataframe thead th {\n",
       "        text-align: right;\n",
       "    }\n",
       "</style>\n",
       "<table border=\"1\" class=\"dataframe\">\n",
       "  <thead>\n",
       "    <tr style=\"text-align: right;\">\n",
       "      <th></th>\n",
       "      <th>number_part</th>\n",
       "      <th>type_of_part</th>\n",
       "      <th>score_for_the_part</th>\n",
       "      <th>share_in_databox</th>\n",
       "    </tr>\n",
       "  </thead>\n",
       "  <tbody>\n",
       "    <tr>\n",
       "      <th>5</th>\n",
       "      <td>5</td>\n",
       "      <td>Reading_Incomplete Sentences</td>\n",
       "      <td>30</td>\n",
       "      <td>0.376365</td>\n",
       "    </tr>\n",
       "    <tr>\n",
       "      <th>2</th>\n",
       "      <td>2</td>\n",
       "      <td>Listening_Question-Response</td>\n",
       "      <td>25</td>\n",
       "      <td>0.197963</td>\n",
       "    </tr>\n",
       "    <tr>\n",
       "      <th>6</th>\n",
       "      <td>6</td>\n",
       "      <td>Reading_Text Completion</td>\n",
       "      <td>16</td>\n",
       "      <td>0.121732</td>\n",
       "    </tr>\n",
       "    <tr>\n",
       "      <th>3</th>\n",
       "      <td>3</td>\n",
       "      <td>Listening_Conversations</td>\n",
       "      <td>39</td>\n",
       "      <td>0.096337</td>\n",
       "    </tr>\n",
       "    <tr>\n",
       "      <th>4</th>\n",
       "      <td>4</td>\n",
       "      <td>Listening_Talks</td>\n",
       "      <td>30</td>\n",
       "      <td>0.084077</td>\n",
       "    </tr>\n",
       "    <tr>\n",
       "      <th>1</th>\n",
       "      <td>1</td>\n",
       "      <td>listening_Photographs</td>\n",
       "      <td>6</td>\n",
       "      <td>0.075498</td>\n",
       "    </tr>\n",
       "    <tr>\n",
       "      <th>7</th>\n",
       "      <td>7</td>\n",
       "      <td>Reading_Passages</td>\n",
       "      <td>54</td>\n",
       "      <td>0.048028</td>\n",
       "    </tr>\n",
       "  </tbody>\n",
       "</table>\n",
       "</div>"
      ],
      "text/plain": [
       "   number_part                  type_of_part  score_for_the_part  \\\n",
       "5            5  Reading_Incomplete Sentences                  30   \n",
       "2            2   Listening_Question-Response                  25   \n",
       "6            6       Reading_Text Completion                  16   \n",
       "3            3       Listening_Conversations                  39   \n",
       "4            4               Listening_Talks                  30   \n",
       "1            1         listening_Photographs                   6   \n",
       "7            7              Reading_Passages                  54   \n",
       "\n",
       "   share_in_databox  \n",
       "5          0.376365  \n",
       "2          0.197963  \n",
       "6          0.121732  \n",
       "3          0.096337  \n",
       "4          0.084077  \n",
       "1          0.075498  \n",
       "7          0.048028  "
      ]
     },
     "execution_count": 217,
     "metadata": {},
     "output_type": "execute_result"
    }
   ],
   "source": [
    "percent = pd.concat([df,definition], axis=1)\n",
    "percent.rename({'part':'share_in_databox'},axis=1, inplace=True)\n",
    "percent.sort_values('share_in_databox', ascending=False)"
   ]
  },
  {
   "cell_type": "markdown",
   "id": "392ca068",
   "metadata": {},
   "source": [
    "Реже всего в датасете встречаются вопросы, относящиеся к части 7, позволяющей набрать наибольшее количество баллов,\n",
    "что говорит о том, что данная часть вопросов меняется редко, и пройдя все возможные вопросы по данной теме \n",
    "у пользователя повышается возможность ответа на следующий вопрос по данной теме корректно."
   ]
  },
  {
   "cell_type": "markdown",
   "id": "d9566686",
   "metadata": {},
   "source": [
    "#### Проанализируем долю правильных ответов для каждой части теста"
   ]
  },
  {
   "cell_type": "code",
   "execution_count": 218,
   "id": "c296317e",
   "metadata": {},
   "outputs": [
    {
     "data": {
      "text/html": [
       "<div>\n",
       "<style scoped>\n",
       "    .dataframe tbody tr th:only-of-type {\n",
       "        vertical-align: middle;\n",
       "    }\n",
       "\n",
       "    .dataframe tbody tr th {\n",
       "        vertical-align: top;\n",
       "    }\n",
       "\n",
       "    .dataframe thead th {\n",
       "        text-align: right;\n",
       "    }\n",
       "</style>\n",
       "<table border=\"1\" class=\"dataframe\">\n",
       "  <thead>\n",
       "    <tr style=\"text-align: right;\">\n",
       "      <th></th>\n",
       "      <th>part</th>\n",
       "      <th>type_of_part</th>\n",
       "      <th>answered_correctly</th>\n",
       "      <th>user_answer</th>\n",
       "      <th>share_sucсess</th>\n",
       "    </tr>\n",
       "  </thead>\n",
       "  <tbody>\n",
       "    <tr>\n",
       "      <th>1</th>\n",
       "      <td>1</td>\n",
       "      <td>listening_Photographs</td>\n",
       "      <td>3854.0</td>\n",
       "      <td>4840</td>\n",
       "      <td>79.628099</td>\n",
       "    </tr>\n",
       "    <tr>\n",
       "      <th>3</th>\n",
       "      <td>3</td>\n",
       "      <td>Listening_Conversations</td>\n",
       "      <td>4800.0</td>\n",
       "      <td>6176</td>\n",
       "      <td>77.720207</td>\n",
       "    </tr>\n",
       "    <tr>\n",
       "      <th>2</th>\n",
       "      <td>2</td>\n",
       "      <td>Listening_Question-Response</td>\n",
       "      <td>9279.0</td>\n",
       "      <td>12691</td>\n",
       "      <td>73.114806</td>\n",
       "    </tr>\n",
       "    <tr>\n",
       "      <th>7</th>\n",
       "      <td>7</td>\n",
       "      <td>Reading_Passages</td>\n",
       "      <td>2237.0</td>\n",
       "      <td>3079</td>\n",
       "      <td>72.653459</td>\n",
       "    </tr>\n",
       "    <tr>\n",
       "      <th>6</th>\n",
       "      <td>6</td>\n",
       "      <td>Reading_Text Completion</td>\n",
       "      <td>5632.0</td>\n",
       "      <td>7804</td>\n",
       "      <td>72.168119</td>\n",
       "    </tr>\n",
       "    <tr>\n",
       "      <th>4</th>\n",
       "      <td>4</td>\n",
       "      <td>Listening_Talks</td>\n",
       "      <td>3739.0</td>\n",
       "      <td>5390</td>\n",
       "      <td>69.369202</td>\n",
       "    </tr>\n",
       "    <tr>\n",
       "      <th>5</th>\n",
       "      <td>5</td>\n",
       "      <td>Reading_Incomplete Sentences</td>\n",
       "      <td>14998.0</td>\n",
       "      <td>24128</td>\n",
       "      <td>62.160146</td>\n",
       "    </tr>\n",
       "  </tbody>\n",
       "</table>\n",
       "</div>"
      ],
      "text/plain": [
       "   part                  type_of_part  answered_correctly  user_answer  \\\n",
       "1     1         listening_Photographs              3854.0         4840   \n",
       "3     3       Listening_Conversations              4800.0         6176   \n",
       "2     2   Listening_Question-Response              9279.0        12691   \n",
       "7     7              Reading_Passages              2237.0         3079   \n",
       "6     6       Reading_Text Completion              5632.0         7804   \n",
       "4     4               Listening_Talks              3739.0         5390   \n",
       "5     5  Reading_Incomplete Sentences             14998.0        24128   \n",
       "\n",
       "   share_sucсess  \n",
       "1      79.628099  \n",
       "3      77.720207  \n",
       "2      73.114806  \n",
       "7      72.653459  \n",
       "6      72.168119  \n",
       "4      69.369202  \n",
       "5      62.160146  "
      ]
     },
     "execution_count": 218,
     "metadata": {},
     "output_type": "execute_result"
    }
   ],
   "source": [
    "part_info = train.groupby([\"part\"]).agg({'answered_correctly':'sum', 'user_answer':'count'}).reset_index()\n",
    "part_info['share_sucсess'] = part_info['answered_correctly']/part_info['user_answer']*100\n",
    "part_info.index = [1,2,3,4,5,6,7]\n",
    "part_info.insert(1, 'type_of_part', 5)\n",
    "part_info['type_of_part']= df['type_of_part']\n",
    "part_info.sort_values('share_sucсess', ascending=False)"
   ]
  },
  {
   "cell_type": "code",
   "execution_count": 234,
   "id": "e7ac8094",
   "metadata": {},
   "outputs": [
    {
     "data": {
      "text/plain": [
       "<AxesSubplot:xlabel='part'>"
      ]
     },
     "execution_count": 234,
     "metadata": {},
     "output_type": "execute_result"
    },
    {
     "data": {
      "image/png": "[encoded data removed]",
      "text/plain": [
       "<Figure size 432x288 with 1 Axes>"
      ]
     },
     "metadata": {
      "needs_background": "light"
     },
     "output_type": "display_data"
    }
   ],
   "source": [
    "part_info.plot.bar(x='part', y='share_sucсess')"
   ]
  },
  {
   "cell_type": "markdown",
   "id": "67ec3c59",
   "metadata": {},
   "source": [
    "В датафрейме представлен рейтинг по степени убывания успешности ответа на вопрос. \n",
    "Таким образом, если следующий вопрос пользователя относится к 1 части теста, то вероятность ответа правильно выше, \n",
    "чем если вопрос относится к темам, стоящим ниже в рейтинге. \n",
    "Для вопросов 5 части, вероятность правильного ответа на последующего вопрос ниже всего "
   ]
  },
  {
   "cell_type": "markdown",
   "id": "20b5b0f0",
   "metadata": {},
   "source": [
    "#### Проанализируем наиболее часто втречающийся номер правильного ответа для каждого раздела"
   ]
  },
  {
   "cell_type": "code",
   "execution_count": 112,
   "id": "06a82ddf",
   "metadata": {},
   "outputs": [
    {
     "data": {
      "text/html": [
       "<div>\n",
       "<style scoped>\n",
       "    .dataframe tbody tr th:only-of-type {\n",
       "        vertical-align: middle;\n",
       "    }\n",
       "\n",
       "    .dataframe tbody tr th {\n",
       "        vertical-align: top;\n",
       "    }\n",
       "\n",
       "    .dataframe thead tr th {\n",
       "        text-align: left;\n",
       "    }\n",
       "\n",
       "    .dataframe thead tr:last-of-type th {\n",
       "        text-align: right;\n",
       "    }\n",
       "</style>\n",
       "<table border=\"1\" class=\"dataframe\">\n",
       "  <thead>\n",
       "    <tr>\n",
       "      <th></th>\n",
       "      <th colspan=\"2\" halign=\"left\">correct_answer</th>\n",
       "      <th>frequency_mode</th>\n",
       "      <th>user_answer</th>\n",
       "      <th>interest_mode</th>\n",
       "    </tr>\n",
       "    <tr>\n",
       "      <th></th>\n",
       "      <th>mode</th>\n",
       "      <th>mode</th>\n",
       "      <th></th>\n",
       "      <th></th>\n",
       "      <th></th>\n",
       "    </tr>\n",
       "    <tr>\n",
       "      <th>part</th>\n",
       "      <th></th>\n",
       "      <th></th>\n",
       "      <th></th>\n",
       "      <th></th>\n",
       "      <th></th>\n",
       "    </tr>\n",
       "  </thead>\n",
       "  <tbody>\n",
       "    <tr>\n",
       "      <th>1</th>\n",
       "      <td>([0.0], [1277])</td>\n",
       "      <td>0.0</td>\n",
       "      <td>1277</td>\n",
       "      <td>4840</td>\n",
       "      <td>26.384298</td>\n",
       "    </tr>\n",
       "    <tr>\n",
       "      <th>2</th>\n",
       "      <td>([0.0], [4440])</td>\n",
       "      <td>0.0</td>\n",
       "      <td>4440</td>\n",
       "      <td>12691</td>\n",
       "      <td>34.985423</td>\n",
       "    </tr>\n",
       "    <tr>\n",
       "      <th>3</th>\n",
       "      <td>([0.0], [1621])</td>\n",
       "      <td>0.0</td>\n",
       "      <td>1621</td>\n",
       "      <td>6176</td>\n",
       "      <td>26.246762</td>\n",
       "    </tr>\n",
       "    <tr>\n",
       "      <th>4</th>\n",
       "      <td>([1.0], [1394])</td>\n",
       "      <td>1.0</td>\n",
       "      <td>1394</td>\n",
       "      <td>5390</td>\n",
       "      <td>25.862709</td>\n",
       "    </tr>\n",
       "    <tr>\n",
       "      <th>5</th>\n",
       "      <td>([0.0], [6323])</td>\n",
       "      <td>0.0</td>\n",
       "      <td>6323</td>\n",
       "      <td>24128</td>\n",
       "      <td>26.206068</td>\n",
       "    </tr>\n",
       "    <tr>\n",
       "      <th>6</th>\n",
       "      <td>([0.0], [2228])</td>\n",
       "      <td>0.0</td>\n",
       "      <td>2228</td>\n",
       "      <td>7804</td>\n",
       "      <td>28.549462</td>\n",
       "    </tr>\n",
       "    <tr>\n",
       "      <th>7</th>\n",
       "      <td>([2.0], [994])</td>\n",
       "      <td>2.0</td>\n",
       "      <td>994</td>\n",
       "      <td>3079</td>\n",
       "      <td>32.283209</td>\n",
       "    </tr>\n",
       "  </tbody>\n",
       "</table>\n",
       "</div>"
      ],
      "text/plain": [
       "       correct_answer      frequency_mode user_answer interest_mode\n",
       "                 mode mode                                         \n",
       "part                                                               \n",
       "1     ([0.0], [1277])  0.0           1277        4840     26.384298\n",
       "2     ([0.0], [4440])  0.0           4440       12691     34.985423\n",
       "3     ([0.0], [1621])  0.0           1621        6176     26.246762\n",
       "4     ([1.0], [1394])  1.0           1394        5390     25.862709\n",
       "5     ([0.0], [6323])  0.0           6323       24128     26.206068\n",
       "6     ([0.0], [2228])  0.0           2228        7804     28.549462\n",
       "7      ([2.0], [994])  2.0            994        3079     32.283209"
      ]
     },
     "execution_count": 112,
     "metadata": {},
     "output_type": "execute_result"
    }
   ],
   "source": [
    "from scipy.stats import mode\n",
    "agg_func_stats = {'correct_answer': [mode, pd.Series.mode]}\n",
    "right_answer = train.groupby(['part']).agg(agg_func_stats).round(2)\n",
    "right_answer['frequency_mode']= [int(right_answer.iloc[i][0][1]) for i in range(len(right_answer))]\n",
    "right_answer['user_answer']=part_info['user_answer']\n",
    "right_answer['interest_mode']= [(right_answer.iloc[i][2]/right_answer.iloc[i][3]*100) for i in range(len(right_answer))]\n",
    "right_answer"
   ]
  },
  {
   "cell_type": "code",
   "execution_count": 113,
   "id": "bbbc2f95",
   "metadata": {},
   "outputs": [
    {
     "name": "stdout",
     "output_type": "stream",
     "text": [
      "Если пользователь не знает ответ на вопрос и выбирает в качестве ответа на вопрос из 1 раздела 0, вероятность правильного ответа составляет 26.38 %\n",
      "Если пользователь не знает ответ на вопрос и выбирает в качестве ответа на вопрос из 2 раздела 0, вероятность правильного ответа составляет 34.99 %\n",
      "Если пользователь не знает ответ на вопро и выбирает в качестве ответа на вопрос из 3 раздела 1, вероятность правильного ответа составляет 26.25 %\n",
      "Если пользователь на знает ответ на вопрос и выбирает в качестве ответа на вопрос из 4 раздела 0, вероятность правильного ответа составляет 25.86 %\n",
      "Если пользователь не знает ответ на вопрос и выбирает в качестве ответа на вопрос из 5 раздела 0, вероятность правильного ответа составляет 26.21 %\n",
      "Если пользователь не знает ответ на вопрос и выбирает в качестве ответа на вопрос из 6 раздела 0, вероятность правильного ответа составляет 28.55 %\n",
      "Если пользователь не знает ответ на вопрос и выбирает в качестве ответа на вопрос из 7 раздела 2, вероятность правильного ответа составляет 32.28 %\n"
     ]
    }
   ],
   "source": [
    "import math\n",
    "print(f'Если пользователь не знает ответ на вопрос и выбирает в качестве ответа на вопрос из 1 раздела 0, вероятность правильного ответа составляет', round(right_answer.iloc[0][4],2),'%')\n",
    "print(f'Если пользователь не знает ответ на вопрос и выбирает в качестве ответа на вопрос из 2 раздела 0, вероятность правильного ответа составляет', round(right_answer.iloc[1][4],2),'%')\n",
    "print(f'Если пользователь не знает ответ на вопро и выбирает в качестве ответа на вопрос из 3 раздела 1, вероятность правильного ответа составляет', round(right_answer.iloc[2][4],2),'%')\n",
    "print(f'Если пользователь на знает ответ на вопрос и выбирает в качестве ответа на вопрос из 4 раздела 0, вероятность правильного ответа составляет', round(right_answer.iloc[3][4],2),'%')\n",
    "print(f'Если пользователь не знает ответ на вопрос и выбирает в качестве ответа на вопрос из 5 раздела 0, вероятность правильного ответа составляет', round(right_answer.iloc[4][4],2),'%')\n",
    "print(f'Если пользователь не знает ответ на вопрос и выбирает в качестве ответа на вопрос из 6 раздела 0, вероятность правильного ответа составляет', round(right_answer.iloc[5][4],2),'%')\n",
    "print(f'Если пользователь не знает ответ на вопрос и выбирает в качестве ответа на вопрос из 7 раздела 2, вероятность правильного ответа составляет', round(right_answer.iloc[6][4],2),'%')"
   ]
  },
  {
   "cell_type": "markdown",
   "id": "db00b431",
   "metadata": {},
   "source": [
    "#### Проанализируем зависимость между временем размышления над ответом на вопрос и его правильностью"
   ]
  },
  {
   "cell_type": "code",
   "execution_count": 114,
   "id": "f26f9521",
   "metadata": {},
   "outputs": [],
   "source": [
    "mask = train['prior_question_elapsed_time'] > 0\n",
    "a = train[mask]"
   ]
  },
  {
   "cell_type": "code",
   "execution_count": 115,
   "id": "7816cb73",
   "metadata": {},
   "outputs": [
    {
     "data": {
      "text/plain": [
       "answered_correctly\n",
       "0    24700.156250\n",
       "1    24752.556641\n",
       "Name: prior_question_elapsed_time, dtype: float32"
      ]
     },
     "execution_count": 115,
     "metadata": {},
     "output_type": "execute_result"
    }
   ],
   "source": [
    "a.groupby([\"answered_correctly\"]). mean()['prior_question_elapsed_time'].sort_values()"
   ]
  },
  {
   "cell_type": "markdown",
   "id": "effaeaf6",
   "metadata": {},
   "source": [
    "время, затраченное на правильный ответ, практически не отличается от времени, затраченного на неправильный ответ, \n",
    "следовательно,  отсутствует прямая зависимость, между временем размышления над ответом, и вероятностью правильного ответа."
   ]
  },
  {
   "cell_type": "markdown",
   "id": "3dc31044",
   "metadata": {},
   "source": [
    "#### Рассмотрим зависимость между продолжительностью взаимодействия и долей правильных ответов"
   ]
  },
  {
   "cell_type": "code",
   "execution_count": 118,
   "id": "0d233143",
   "metadata": {},
   "outputs": [
    {
     "data": {
      "text/html": [
       "<div>\n",
       "<style scoped>\n",
       "    .dataframe tbody tr th:only-of-type {\n",
       "        vertical-align: middle;\n",
       "    }\n",
       "\n",
       "    .dataframe tbody tr th {\n",
       "        vertical-align: top;\n",
       "    }\n",
       "\n",
       "    .dataframe thead th {\n",
       "        text-align: right;\n",
       "    }\n",
       "</style>\n",
       "<table border=\"1\" class=\"dataframe\">\n",
       "  <thead>\n",
       "    <tr style=\"text-align: right;\">\n",
       "      <th></th>\n",
       "      <th>user_id</th>\n",
       "      <th>answered_correctly</th>\n",
       "      <th>user_answer</th>\n",
       "      <th>timestamp</th>\n",
       "      <th>effect</th>\n",
       "    </tr>\n",
       "  </thead>\n",
       "  <tbody>\n",
       "    <tr>\n",
       "      <th>0</th>\n",
       "      <td>115</td>\n",
       "      <td>31.0</td>\n",
       "      <td>45</td>\n",
       "      <td>1305.0</td>\n",
       "      <td>68.888889</td>\n",
       "    </tr>\n",
       "    <tr>\n",
       "      <th>1</th>\n",
       "      <td>124</td>\n",
       "      <td>6.0</td>\n",
       "      <td>29</td>\n",
       "      <td>3.0</td>\n",
       "      <td>20.689655</td>\n",
       "    </tr>\n",
       "    <tr>\n",
       "      <th>2</th>\n",
       "      <td>2746</td>\n",
       "      <td>11.0</td>\n",
       "      <td>18</td>\n",
       "      <td>2.0</td>\n",
       "      <td>61.111111</td>\n",
       "    </tr>\n",
       "    <tr>\n",
       "      <th>3</th>\n",
       "      <td>5382</td>\n",
       "      <td>83.0</td>\n",
       "      <td>124</td>\n",
       "      <td>12721.0</td>\n",
       "      <td>66.935484</td>\n",
       "    </tr>\n",
       "    <tr>\n",
       "      <th>4</th>\n",
       "      <td>8623</td>\n",
       "      <td>69.0</td>\n",
       "      <td>108</td>\n",
       "      <td>10440.0</td>\n",
       "      <td>63.888889</td>\n",
       "    </tr>\n",
       "  </tbody>\n",
       "</table>\n",
       "</div>"
      ],
      "text/plain": [
       "   user_id  answered_correctly  user_answer  timestamp     effect\n",
       "0      115                31.0           45     1305.0  68.888889\n",
       "1      124                 6.0           29        3.0  20.689655\n",
       "2     2746                11.0           18        2.0  61.111111\n",
       "3     5382                83.0          124    12721.0  66.935484\n",
       "4     8623                69.0          108    10440.0  63.888889"
      ]
     },
     "execution_count": 118,
     "metadata": {},
     "output_type": "execute_result"
    }
   ],
   "source": [
    "# 1 hour = 3600000ms\n",
    "times = train.groupby([\"user_id\"]).agg({'answered_correctly':'sum', 'user_answer':'count', 'timestamp':'sum'}).reset_index()\n",
    "times['effect'] = times['answered_correctly']/times['user_answer']*100\n",
    "times['timestamp']= round(times['timestamp']/3600000,0)\n",
    "times.head(5)"
   ]
  },
  {
   "cell_type": "code",
   "execution_count": 119,
   "id": "6915ac55",
   "metadata": {},
   "outputs": [
    {
     "data": {
      "text/html": [
       "<div>\n",
       "<style scoped>\n",
       "    .dataframe tbody tr th:only-of-type {\n",
       "        vertical-align: middle;\n",
       "    }\n",
       "\n",
       "    .dataframe tbody tr th {\n",
       "        vertical-align: top;\n",
       "    }\n",
       "\n",
       "    .dataframe thead th {\n",
       "        text-align: right;\n",
       "    }\n",
       "</style>\n",
       "<table border=\"1\" class=\"dataframe\">\n",
       "  <thead>\n",
       "    <tr style=\"text-align: right;\">\n",
       "      <th></th>\n",
       "      <th>user_id</th>\n",
       "      <th>answered_correctly</th>\n",
       "      <th>user_answer</th>\n",
       "      <th>timestamp</th>\n",
       "      <th>effect</th>\n",
       "    </tr>\n",
       "  </thead>\n",
       "  <tbody>\n",
       "    <tr>\n",
       "      <th>count</th>\n",
       "      <td>2.410000e+02</td>\n",
       "      <td>241.000000</td>\n",
       "      <td>241.000000</td>\n",
       "      <td>2.410000e+02</td>\n",
       "      <td>241.000000</td>\n",
       "    </tr>\n",
       "    <tr>\n",
       "      <th>mean</th>\n",
       "      <td>7.064219e+05</td>\n",
       "      <td>184.809129</td>\n",
       "      <td>266.008299</td>\n",
       "      <td>5.099349e+05</td>\n",
       "      <td>53.878813</td>\n",
       "    </tr>\n",
       "    <tr>\n",
       "      <th>std</th>\n",
       "      <td>4.357603e+05</td>\n",
       "      <td>609.333787</td>\n",
       "      <td>794.542379</td>\n",
       "      <td>3.026930e+06</td>\n",
       "      <td>17.157072</td>\n",
       "    </tr>\n",
       "    <tr>\n",
       "      <th>min</th>\n",
       "      <td>1.150000e+02</td>\n",
       "      <td>0.000000</td>\n",
       "      <td>6.000000</td>\n",
       "      <td>0.000000e+00</td>\n",
       "      <td>0.000000</td>\n",
       "    </tr>\n",
       "    <tr>\n",
       "      <th>25%</th>\n",
       "      <td>3.551380e+05</td>\n",
       "      <td>11.000000</td>\n",
       "      <td>29.000000</td>\n",
       "      <td>5.000000e+00</td>\n",
       "      <td>43.396226</td>\n",
       "    </tr>\n",
       "    <tr>\n",
       "      <th>50%</th>\n",
       "      <td>7.128050e+05</td>\n",
       "      <td>24.000000</td>\n",
       "      <td>44.000000</td>\n",
       "      <td>2.014000e+03</td>\n",
       "      <td>57.142857</td>\n",
       "    </tr>\n",
       "    <tr>\n",
       "      <th>75%</th>\n",
       "      <td>1.102335e+06</td>\n",
       "      <td>87.000000</td>\n",
       "      <td>143.000000</td>\n",
       "      <td>5.872800e+04</td>\n",
       "      <td>66.000000</td>\n",
       "    </tr>\n",
       "    <tr>\n",
       "      <th>max</th>\n",
       "      <td>1.440282e+06</td>\n",
       "      <td>6195.000000</td>\n",
       "      <td>7475.000000</td>\n",
       "      <td>3.960359e+07</td>\n",
       "      <td>86.956522</td>\n",
       "    </tr>\n",
       "  </tbody>\n",
       "</table>\n",
       "</div>"
      ],
      "text/plain": [
       "            user_id  answered_correctly  user_answer     timestamp      effect\n",
       "count  2.410000e+02          241.000000   241.000000  2.410000e+02  241.000000\n",
       "mean   7.064219e+05          184.809129   266.008299  5.099349e+05   53.878813\n",
       "std    4.357603e+05          609.333787   794.542379  3.026930e+06   17.157072\n",
       "min    1.150000e+02            0.000000     6.000000  0.000000e+00    0.000000\n",
       "25%    3.551380e+05           11.000000    29.000000  5.000000e+00   43.396226\n",
       "50%    7.128050e+05           24.000000    44.000000  2.014000e+03   57.142857\n",
       "75%    1.102335e+06           87.000000   143.000000  5.872800e+04   66.000000\n",
       "max    1.440282e+06         6195.000000  7475.000000  3.960359e+07   86.956522"
      ]
     },
     "execution_count": 119,
     "metadata": {},
     "output_type": "execute_result"
    }
   ],
   "source": [
    "times.describe()"
   ]
  },
  {
   "cell_type": "markdown",
   "id": "c17486db",
   "metadata": {},
   "source": [
    "очевидно, что 75% пользователей тратят на выполнение сессии 58728 часа, \n",
    "поэтому будем для анализа зависимости будем исследовать пользователей со временем менее указанной"
   ]
  },
  {
   "cell_type": "code",
   "execution_count": 120,
   "id": "8748f1b6",
   "metadata": {},
   "outputs": [
    {
     "data": {
      "text/plain": [
       "<AxesSubplot:xlabel='timestamp', ylabel='effect'>"
      ]
     },
     "execution_count": 120,
     "metadata": {},
     "output_type": "execute_result"
    },
    {
     "data": {
      "image/png": "[encoded data removed]",
      "text/plain": [
       "<Figure size 432x288 with 1 Axes>"
      ]
     },
     "metadata": {
      "needs_background": "light"
     },
     "output_type": "display_data"
    }
   ],
   "source": [
    "mask = times['timestamp'] < 5.872800e+04\n",
    "b = times[mask]\n",
    "b.plot.scatter(y='effect', x='timestamp')"
   ]
  },
  {
   "cell_type": "markdown",
   "id": "7ca5b508",
   "metadata": {},
   "source": [
    "как видим максимальная эффективность правильных ответов наблюдается в пределах до 30 000 часов, она достигает пика, до 87%, \n",
    "а потом существенно падает и на протяжении оставшегося времени сохраняется на уровне 55-65%. \n",
    "Для более точного анализа рассмотрим 50% пользователей, для которых время составляет до 2014 часов\n"
   ]
  },
  {
   "cell_type": "code",
   "execution_count": 121,
   "id": "ad01a98c",
   "metadata": {},
   "outputs": [
    {
     "data": {
      "text/plain": [
       "<AxesSubplot:xlabel='timestamp', ylabel='effect'>"
      ]
     },
     "execution_count": 121,
     "metadata": {},
     "output_type": "execute_result"
    },
    {
     "data": {
      "image/png": "[encoded data removed]",
      "text/plain": [
       "<Figure size 432x288 with 1 Axes>"
      ]
     },
     "metadata": {
      "needs_background": "light"
     },
     "output_type": "display_data"
    }
   ],
   "source": [
    "mask = times['timestamp'] < 2014\n",
    "с = times[mask]\n",
    "с.plot.scatter(y='effect', x='timestamp')"
   ]
  },
  {
   "cell_type": "markdown",
   "id": "750eac7f",
   "metadata": {},
   "source": [
    "в целом нельзя указать на наличие прямой явной связи между продолжительностью сессии и увеличением доли правильности ответов. \n",
    "основная часть пользователей завершает сессию в промежутке от 0 до 5 часов с результатом от 45 до 65 %. \n",
    "Снижение количества пользователей продолжающих обучение более длительное время не показывает существенного улучшения результатов. в целом это может свидетельствовать и о том, что пользователей удовлетворяет результат теста 45-60% и они не намерены продолжать обучение в дальнейшем для повышения уровня знаний.\n",
    "Посмотрим сколько времени большинство пользователей трятят на сессию"
   ]
  },
  {
   "cell_type": "code",
   "execution_count": 123,
   "id": "7aa4b6dd",
   "metadata": {},
   "outputs": [
    {
     "data": {
      "text/plain": [
       "0    1.0\n",
       "Name: timestamp, dtype: float64"
      ]
     },
     "execution_count": 123,
     "metadata": {},
     "output_type": "execute_result"
    }
   ],
   "source": [
    "times['timestamp'].mode()"
   ]
  },
  {
   "cell_type": "markdown",
   "id": "03620e4e",
   "metadata": {},
   "source": [
    "Чаще всего продолжительность сессии 1 час.\n",
    "расширим интервал и проанализируем эффективность ответов в пределах от 0 до 15 часов"
   ]
  },
  {
   "cell_type": "code",
   "execution_count": 237,
   "id": "72517aa1",
   "metadata": {},
   "outputs": [
    {
     "data": {
      "text/plain": [
       "<AxesSubplot:xlabel='timestamp', ylabel='effect'>"
      ]
     },
     "execution_count": 237,
     "metadata": {},
     "output_type": "execute_result"
    },
    {
     "data": {
      "image/png": "[encoded data removed]",
      "text/plain": [
       "<Figure size 432x288 with 1 Axes>"
      ]
     },
     "metadata": {
      "needs_background": "light"
     },
     "output_type": "display_data"
    }
   ],
   "source": [
    "mask = times['timestamp'] < 15\n",
    "d = times[mask]\n",
    "d.plot.scatter(y='effect', x='timestamp')"
   ]
  },
  {
   "cell_type": "markdown",
   "id": "6b01cbea",
   "metadata": {},
   "source": [
    "максимальная эффективность, т.е. доля правильных ответов приходится на период между 1-2 часами,\n",
    "далее происходит раздедение пользователей, для одних увеличение продолжительности приводит к улучшению результатов, \n",
    "для других к снижению доли правильных ответов. Для получения полной картины следует проанализировать, \n",
    "какие именно темы или лекции изучают студенты,входящие как в групу успешных, \n",
    "так и в группу снижающих успеваемость.\n"
   ]
  }
 ],
 "metadata": {
  "kernelspec": {
   "display_name": "Python 3 (ipykernel)",
   "language": "python",
   "name": "python3"
  },
  "language_info": {
   "codemirror_mode": {
    "name": "ipython",
    "version": 3
   },
   "file_extension": ".py",
   "mimetype": "text/x-python",
   "name": "python",
   "nbconvert_exporter": "python",
   "pygments_lexer": "ipython3",
   "version": "3.9.12"
  }
 },
 "nbformat": 4,
 "nbformat_minor": 5
}
